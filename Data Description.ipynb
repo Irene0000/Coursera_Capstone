{
 "cells": [
  {
   "cell_type": "markdown",
   "metadata": {},
   "source": [
    "# SAFARI'S TOUR APP"
   ]
  },
  {
   "cell_type": "markdown",
   "metadata": {},
   "source": [
    "## Data Description"
   ]
  },
  {
   "cell_type": "markdown",
   "metadata": {},
   "source": [
    "#### Data for the Safari's tour app project is provided using the Foursquare location data and grouped according to landscape area.\n",
    "\n",
    "##### The landscape area provides data on the hotels, coffee shops, tourist sites, social amenities.\n",
    "\n",
    "##### Other data used are gotten from;\n",
    "##### a. https://knoema.com/atlas/Uganda/topics/Tourism/datasets\n",
    "##### b. https://www.ugandainvest.go.ug/tourism-sector-profile/\n",
    "##### c. https://food.jumia.ug/blog/15-best-places-to-visit-in-uganda-3785\n",
    "##### d. https://food.jumia.ug/blog/15-best-places-to-visit-in-uganda-3785\n",
    "##### e. https://www.hometogo.com/hotel/53d775c0ba5f0?adword=google%2Frowe%2Fkwd-20848786598%2Fct%3Dhs%3Bd%3Dd%3Btc%3DROWE%3Bln%3Den%3Bdc%3DUG%3Bot%3DHot%3Bmt%3Dbm%3Bcid%3Da9501803887c7be8%2Fug%2Fn-a%2F53d775c0ba5f0%2F263402103963%2F%2Buganda%20%2Bhotels&c=USD&gclid=Cj0KCQiAm4TyBRDgARIsAOU75sovGEIU4lTvyOZINnZBgmV8hYN6Dw283pTef6r8JgnRBlbrpudnN3waAn8JEALw_wcB"
   ]
  }
 ],
 "metadata": {
  "kernelspec": {
   "display_name": "Python 3",
   "language": "python",
   "name": "python3"
  },
  "language_info": {
   "codemirror_mode": {
    "name": "ipython",
    "version": 3
   },
   "file_extension": ".py",
   "mimetype": "text/x-python",
   "name": "python",
   "nbconvert_exporter": "python",
   "pygments_lexer": "ipython3",
   "version": "3.7.3"
  }
 },
 "nbformat": 4,
 "nbformat_minor": 2
}
