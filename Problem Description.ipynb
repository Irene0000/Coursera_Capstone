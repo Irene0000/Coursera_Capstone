{
 "cells": [
  {
   "cell_type": "markdown",
   "metadata": {},
   "source": [
    "# SAFARI'S TOUR APP"
   ]
  },
  {
   "cell_type": "markdown",
   "metadata": {},
   "source": [
    "##       Problem Description"
   ]
  },
  {
   "cell_type": "markdown",
   "metadata": {},
   "source": [
    "### Safari Tours is a company that connects travelers and tourists with social amenities and conveniences that toursits comfortable; hotels, coffee shops, tourist sites etc.\n",
    "### Target audience: Travelers and tourists\n",
    "### Purpose: Having a Four Square API-enabled app that travelers and toursits log into to search for nearby hotels, coffee shops, tourist sites, social amenities etc according to specifics that meet their needs."
   ]
  }
 ],
 "metadata": {
  "kernelspec": {
   "display_name": "Python 3",
   "language": "python",
   "name": "python3"
  },
  "language_info": {
   "codemirror_mode": {
    "name": "ipython",
    "version": 3
   },
   "file_extension": ".py",
   "mimetype": "text/x-python",
   "name": "python",
   "nbconvert_exporter": "python",
   "pygments_lexer": "ipython3",
   "version": "3.7.3"
  }
 },
 "nbformat": 4,
 "nbformat_minor": 2
}
